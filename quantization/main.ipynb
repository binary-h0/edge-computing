{
  "nbformat": 4,
  "nbformat_minor": 0,
  "metadata": {
    "colab": {
      "provenance": [],
      "collapsed_sections": [
        "hpvtuENVpoEf",
        "2Z1evBaIf0lc",
        "rhS4J4utf0ld"
      ],
      "gpuType": "T4"
    },
    "kernelspec": {
      "name": "python3",
      "display_name": "Python 3"
    },
    "language_info": {
      "name": "python"
    },
    "accelerator": "GPU"
  },
  "cells": [
    {
      "cell_type": "markdown",
      "source": [
        "## 1. 데이터 로드 (CIFAR-10)"
      ],
      "metadata": {
        "id": "hpvtuENVpoEf"
      }
    },
    {
      "cell_type": "code",
      "execution_count": 48,
      "metadata": {
        "id": "Nd6Z-gPLnM45"
      },
      "outputs": [],
      "source": [
        "from torchvision import datasets, transforms\n",
        "from torch.utils.data import DataLoader\n",
        "\n",
        "def get_dataloader(batch_size=128, num_workers=4, pin_memory=True):\n",
        "    \"\"\"\n",
        "    CIFAR-10 데이터 로드 함수. 데이터 전처리와 최적화를 포함.\n",
        "\n",
        "    Args:\n",
        "        batch_size (int): 배치 크기\n",
        "        num_workers (int): DataLoader의 워커 수\n",
        "        pin_memory (bool): GPU로 빠르게 전송을 위해 고정 메모리 사용 여부\n",
        "\n",
        "    Returns:\n",
        "        train_loader, test_loader\n",
        "    \"\"\"\n",
        "    transform = transforms.Compose([\n",
        "        transforms.ToTensor(),\n",
        "        transforms.Normalize((0.5, 0.5, 0.5), (0.5, 0.5, 0.5))  # Normalize RGB channels\n",
        "    ])\n",
        "\n",
        "    # CIFAR-10 데이터셋 로드\n",
        "    train_dataset = datasets.CIFAR10(root='./data', train=True, transform=transform, download=True)\n",
        "    test_dataset = datasets.CIFAR10(root='./data', train=False, transform=transform)\n",
        "\n",
        "    # DataLoader\n",
        "    train_loader = DataLoader(\n",
        "        train_dataset,\n",
        "        batch_size=batch_size,\n",
        "        shuffle=True,\n",
        "        num_workers=num_workers,\n",
        "        pin_memory=pin_memory\n",
        "    )\n",
        "    test_loader = DataLoader(\n",
        "        test_dataset,\n",
        "        batch_size=batch_size,\n",
        "        shuffle=False,\n",
        "        num_workers=num_workers,\n",
        "        pin_memory=pin_memory\n",
        "    )\n",
        "    return train_loader, test_loader"
      ]
    },
    {
      "cell_type": "markdown",
      "source": [
        "## 2. 모델 정의 (CIFAR-10을 위한 모델)"
      ],
      "metadata": {
        "id": "COlBMMKppx1c"
      }
    },
    {
      "cell_type": "code",
      "source": [
        "# from torchvision import models\n",
        "from torchvision.models.quantization import resnet18\n",
        "from torchvision.models import ResNet18_Weights\n",
        "import torch.nn as nn\n",
        "\n",
        "def get_resnet_for_cifar10():\n",
        "    \"\"\"\n",
        "    ResNet-18 모델을 CIFAR-10에 맞게 수정\n",
        "    Returns:\n",
        "        모델 객체\n",
        "    \"\"\"\n",
        "    model = resnet18(weights=None)\n",
        "    model.conv1 = nn.Conv2d(3, 64, kernel_size=3, stride=1, padding=1, bias=False)  # CIFAR-10 크기에 맞게 수정\n",
        "    model.maxpool = nn.Identity()  # 첫 번째 MaxPooling 제거\n",
        "    model.fc = nn.Linear(model.fc.in_features, 10)  # CIFAR-10 클래스 수에 맞게 출력 수정\n",
        "    return model"
      ],
      "metadata": {
        "id": "LK06MPRNIYQj"
      },
      "execution_count": 49,
      "outputs": []
    },
    {
      "cell_type": "markdown",
      "source": [
        "## 3. 학습 및 평가 함수"
      ],
      "metadata": {
        "id": "2Z1evBaIf0lc"
      }
    },
    {
      "cell_type": "code",
      "source": [
        "import torch\n",
        "import time\n",
        "import os\n",
        "\n",
        "def train(model, dataloader, criterion, optimizer, device=\"cpu\"):\n",
        "    model.train()\n",
        "    running_loss = 0.0\n",
        "    correct = 0\n",
        "    total = 0\n",
        "    for images, labels in dataloader:\n",
        "        images, labels = images.to(device), labels.to(device)\n",
        "        optimizer.zero_grad()\n",
        "        outputs = model(images)\n",
        "        loss = criterion(outputs, labels)\n",
        "        loss.backward()\n",
        "        optimizer.step()\n",
        "\n",
        "        running_loss += loss.item() * labels.size(0)\n",
        "        _, predicted = torch.max(outputs, 1)\n",
        "        total += labels.size(0)\n",
        "        correct += (predicted == labels).sum().item()\n",
        "\n",
        "    avg_loss = running_loss / total\n",
        "    accuracy = 100 * correct / total\n",
        "    return avg_loss, accuracy\n",
        "\n",
        "def evaluate(model, dataloader, criterion, device=\"cpu\"):\n",
        "    model.eval()\n",
        "    running_loss = 0.0\n",
        "    correct = 0\n",
        "    total = 0\n",
        "    with torch.no_grad():\n",
        "        for images, labels in dataloader:\n",
        "            images, labels = images.to(device), labels.to(device)\n",
        "            outputs = model(images)\n",
        "            loss = criterion(outputs, labels)\n",
        "\n",
        "            running_loss += loss.item() * labels.size(0)\n",
        "            _, predicted = torch.max(outputs, 1)\n",
        "            total += labels.size(0)\n",
        "            correct += (predicted == labels).sum().item()\n",
        "\n",
        "    avg_loss = running_loss / total\n",
        "    accuracy = 100 * correct / total\n",
        "    return avg_loss, accuracy\n",
        "\n",
        "def train_and_evaluate(model, train_loader, test_loader, criterion, optimizer, device, epochs, best_model_path):\n",
        "    \"\"\"모델 학습 및 검증 과정\"\"\"\n",
        "    best_val_acc = 0.0\n",
        "\n",
        "    # 실시간 시각화 초기화\n",
        "    live_plot = LivePlot()\n",
        "\n",
        "    for epoch in range(epochs):\n",
        "        train_loss, train_acc = train(model, train_loader, criterion, optimizer, device)\n",
        "        val_loss, val_acc = evaluate(model, test_loader, criterion, device)\n",
        "\n",
        "        # 실시간 시각화 업데이트 (live_plot 객체 필요 시 활성화)\n",
        "        live_plot.update(epoch, train_loss, train_acc, val_loss, val_acc)\n",
        "\n",
        "        print(f\"Epoch {epoch + 1}: Train Loss={train_loss:.4f}, Train Acc={train_acc:.2f}%, Val Loss={val_loss:.4f}, Val Acc={val_acc:.2f}%\")\n",
        "\n",
        "        # 최적의 모델 저장\n",
        "        if val_acc > best_val_acc:\n",
        "            print(f\"New best model found at epoch {epoch + 1} with Val Acc={val_acc:.2f}%\")\n",
        "            best_val_acc = val_acc\n",
        "            save_checkpoint(model, filepath=best_model_path)\n",
        "\n",
        "    return best_val_acc\n",
        "\n",
        "# 모델 학습 결과 저장\n",
        "def save_results(results, filepath=\"results.json\"):\n",
        "    import json\n",
        "    with open(filepath, \"w\") as f:\n",
        "        json.dump(results, f, indent=4)\n",
        "\n",
        "# 추론 속도 측정 함수\n",
        "def measure_inference_speed(model, dataloader, device, num_batches=256):\n",
        "    model.eval()\n",
        "    total_time = 0.0\n",
        "    with torch.no_grad():\n",
        "        for images, labels in dataloader:\n",
        "            if len(images) < num_batches:\n",
        "                break\n",
        "            images = images.to(device)\n",
        "            start_time = time.time()\n",
        "            _ = model(images)\n",
        "            total_time += time.time() - start_time\n",
        "    avg_time = total_time / num_batches\n",
        "    return avg_time\n",
        "\n",
        "def model_size(model, path=\"temp.pth\"):\n",
        "    torch.save(model.state_dict(), path)\n",
        "    size_mb = os.path.getsize(path) / 1e6\n",
        "    os.remove(path)\n",
        "    return size_mb"
      ],
      "metadata": {
        "id": "5GiC5cLCf0lc"
      },
      "execution_count": 50,
      "outputs": []
    },
    {
      "cell_type": "code",
      "source": [
        "import torch\n",
        "\n",
        "def save_checkpoint(model, filepath=\"best_model.pth\"):\n",
        "    \"\"\"현재 모델 상태를 저장\"\"\"\n",
        "    torch.save(model.state_dict(), filepath)\n",
        "\n",
        "def load_checkpoint(model, filepath=\"best_model.pth\"):\n",
        "    \"\"\"저장된 모델 상태를 불러오기\"\"\"\n",
        "    model.load_state_dict(torch.load(filepath))\n",
        "    return model"
      ],
      "metadata": {
        "id": "1wxT5ahMf0ld"
      },
      "execution_count": 51,
      "outputs": []
    },
    {
      "cell_type": "markdown",
      "source": [
        "## 4. 학습 과정 시각화"
      ],
      "metadata": {
        "id": "rhS4J4utf0ld"
      }
    },
    {
      "cell_type": "code",
      "source": [
        "from IPython.display import clear_output\n",
        "import matplotlib.pyplot as plt\n",
        "\n",
        "class LivePlot:\n",
        "    def __init__(self):\n",
        "        self.train_loss = []\n",
        "        self.val_loss = []\n",
        "        self.train_acc = []\n",
        "        self.val_acc = []\n",
        "\n",
        "    def update(self, epoch, train_loss, train_acc, val_loss, val_acc):\n",
        "        self.train_loss.append(train_loss)\n",
        "        self.val_loss.append(val_loss)\n",
        "        self.train_acc.append(train_acc)\n",
        "        self.val_acc.append(val_acc)\n",
        "\n",
        "        # Colab에서는 출력 초기화 후 새로 그리기\n",
        "        clear_output(wait=True)\n",
        "        plt.figure(figsize=(12, 5))\n",
        "\n",
        "        # Loss 그래프\n",
        "        plt.subplot(1, 2, 1)\n",
        "        plt.plot(self.train_loss, label='Train Loss', color='blue')\n",
        "        plt.plot(self.val_loss, label='Validation Loss', color='orange')\n",
        "        plt.xlabel(\"Epochs\")\n",
        "        plt.ylabel(\"Loss\")\n",
        "        plt.title(\"Training and Validation Loss\")\n",
        "        plt.legend()\n",
        "\n",
        "        # Accuracy 그래프\n",
        "        plt.subplot(1, 2, 2)\n",
        "        plt.plot(self.train_acc, label='Train Accuracy', color='green')\n",
        "        plt.plot(self.val_acc, label='Validation Accuracy', color='red')\n",
        "        plt.xlabel(\"Epochs\")\n",
        "        plt.ylabel(\"Accuracy (%)\")\n",
        "        plt.title(\"Training and Validation Accuracy\")\n",
        "        plt.legend()\n",
        "\n",
        "        plt.show()"
      ],
      "metadata": {
        "id": "gJ8ZJc5uf0ld"
      },
      "execution_count": 52,
      "outputs": []
    },
    {
      "cell_type": "markdown",
      "source": [
        "## 5. QAT, PTQ"
      ],
      "metadata": {
        "id": "5AzgmYowgG5X"
      }
    },
    {
      "cell_type": "code",
      "source": [
        "import torch\n",
        "import torch.quantization as quant\n",
        "from torch.ao.quantization.observer import MinMaxObserver, PerChannelMinMaxObserver\n",
        "from torch.ao.quantization import MinMaxObserver, FakeQuantize\n",
        "\n",
        "class FourBitObserver(MinMaxObserver):\n",
        "    def __init__(self, *args, **kwargs):\n",
        "        super(FourBitObserver, self).__init__(*args, **kwargs)\n",
        "        self.quant_min = 0  # 최소값\n",
        "        self.quant_max = 15  # 4-bit 최대값 (2^4 - 1)\n",
        "\n",
        "    def calculate_qparams(self):\n",
        "        # 4-bit 범위에서 스케일 및 zero-point 계산\n",
        "        scale, zero_point = super().calculate_qparams()\n",
        "        return scale, zero_point.clamp(self.quant_min, self.quant_max)\n",
        "\n",
        "# 4-bit FakeQuantization 모듈\n",
        "class FourBitFakeQuantize(FakeQuantize):\n",
        "    def __init__(self, *args, **kwargs):\n",
        "        observer = FourBitObserver.with_args(dtype=torch.quint8)\n",
        "        super(FourBitFakeQuantize, self).__init__(observer=observer, *args, **kwargs)\n",
        "\n",
        "# PTQ 수행\n",
        "def apply_ptq(model, train_loader, test_loader, criterion, optimizer, device, epochs=10, best_model_path=\"best_ptq_model.pth\"):\n",
        "    \"\"\"Post-Training Quantization 수행\"\"\"\n",
        "    print(\"Applying PTQ...\")\n",
        "    # 모델 학습 및 초기 성능 최적화\n",
        "    post_acc = train_and_evaluate(model, train_loader, test_loader, criterion, optimizer, device, epochs, best_model_path)\n",
        "\n",
        "    # Quantization 준비\n",
        "    model.qconfig = torch.quantization.get_default_qconfig(\"fbgemm\")\n",
        "\n",
        "    # Observer 설정 - 8bit\n",
        "    model.qconfig = quant.QConfig(\n",
        "        activation=quant.MinMaxObserver.with_args(qscheme=torch.per_tensor_affine),\n",
        "        weight=quant.MinMaxObserver.with_args(dtype=torch.qint8, qscheme=torch.per_tensor_affine)\n",
        "    )\n",
        "\n",
        "    # Prepare 단계\n",
        "    print(\"Preparing model for quantization...\")\n",
        "    torch.quantization.prepare(model, inplace=True)\n",
        "\n",
        "\n",
        "    # Calibration 단계\n",
        "    print(\"Calibrating model...\")\n",
        "    with torch.no_grad():\n",
        "        for inputs, _ in test_loader:\n",
        "            inputs = inputs.to(device)\n",
        "            model(inputs)\n",
        "            break\n",
        "\n",
        "    post_ptq_size = model_size(model)\n",
        "    print(f\"Post-PTQ Model Size: {post_ptq_size} MB\")\n",
        "\n",
        "\n",
        "    # Quantization 변환\n",
        "    model.to(\"cpu\")\n",
        "    model.eval()\n",
        "    quant.convert(model, inplace=True)\n",
        "\n",
        "    post_ptq_inf_time = measure_inference_speed(model, test_loader, \"cpu\")\n",
        "    print(f\"Post-PTQ Inference Time: {post_ptq_inf_time} seconds\")\n",
        "\n",
        "    # 최종 성능 평가\n",
        "    acc = evaluate(model, test_loader, criterion, \"cpu\")[1]\n",
        "    print(f\"PTQ Model Accuracy: {acc:.2f}%\")\n",
        "    return model, acc, post_acc, post_ptq_size, post_ptq_inf_time\n",
        "\n",
        "# QAT 수행\n",
        "def apply_qat(model, train_loader, test_loader, criterion, optimizer, device, epochs=10, best_model_path=\"best_qat_model.pth\"):\n",
        "    \"\"\"Quantization Aware Training 수행\"\"\"\n",
        "    print(\"Applying QAT...\")\n",
        "\n",
        "    # QAT 준비\n",
        "    model.train()\n",
        "    model.qconfig = quant.get_default_qat_qconfig(\"fbgemm\")\n",
        "\n",
        "    # Observer 설정 - 8bit\n",
        "    model.qconfig = quant.QConfig(\n",
        "        activation=quant.MinMaxObserver.with_args(qscheme=torch.per_tensor_affine),\n",
        "        weight=quant.MinMaxObserver.with_args(dtype=torch.qint8, qscheme=torch.per_tensor_affine)\n",
        "    )\n",
        "    quant.prepare_qat(model, inplace=True)\n",
        "\n",
        "    # 학습 및 최적화\n",
        "    post_acc = train_and_evaluate(model, train_loader, test_loader, criterion, optimizer, device, epochs, best_model_path)\n",
        "\n",
        "    post_qat_size = model_size(model)\n",
        "    print(f\"Post-QAT Model Size: {post_qat_size} MB\")\n",
        "\n",
        "\n",
        "    # Quantization 변환\n",
        "    model.to(\"cpu\")\n",
        "    model.eval()  # 평가 모드로 전환\n",
        "    quant.convert(model, inplace=True)  # 양자화된 연산자로 변환\n",
        "\n",
        "    post_qat_inf_time = measure_inference_speed(model, test_loader, \"cpu\")\n",
        "    print(f\"Post-QAT Inference Time: {post_qat_inf_time} seconds\")\n",
        "\n",
        "    # 최종 성능 평가\n",
        "    acc = evaluate(model, test_loader, criterion, \"cpu\")[1]\n",
        "    print(f\"QAT Model Accuracy: {acc:.2f}%\")\n",
        "    return model, acc, post_acc, post_qat_size, post_qat_inf_time\n",
        "\n",
        "# PTQ와 QAT 비교 함수\n",
        "def compare_ptq_qat(_ptq_model, _qat_model, train_loader, test_loader, criterion, ptq_optimizer, qat_optimizer, device, epochs=10):\n",
        "    print(\"\\n=== Running PTQ ===\")\n",
        "    ptq_model = _ptq_model  # Copy baseline model\n",
        "    ptq_model, ptq_acc, post_ptq_acc, post_ptq_size, post_ptq_inf_time = apply_ptq(\n",
        "        ptq_model, train_loader, test_loader, criterion, ptq_optimizer, device, epochs\n",
        "    )\n",
        "    ptq_size = model_size(ptq_model)\n",
        "    ptq_inference_time = measure_inference_speed(ptq_model, test_loader, \"cpu\")\n",
        "\n",
        "    print(\"\\n=== Running QAT ===\")\n",
        "    qat_model = _qat_model\n",
        "    qat_model, qat_acc, post_qat_acc, post_qat_size, post_qat_inf_time = apply_qat(\n",
        "        qat_model, train_loader, test_loader, criterion, qat_optimizer, device, epochs\n",
        "    )\n",
        "    qat_size = model_size(qat_model)\n",
        "    qat_inference_time = measure_inference_speed(qat_model, test_loader, \"cpu\")\n",
        "\n",
        "    # 비교 결과 출력\n",
        "    print(\"\\n=== Results ===\")\n",
        "    results = {\n",
        "        \"PTQ\": {\n",
        "            \"Accuracy\": ptq_acc,\n",
        "            \"Model Size (MB)\": ptq_size,\n",
        "            \"Inference Time (s)\": ptq_inference_time,\n",
        "            \"Post-PTQ Accuracy\": post_ptq_acc,\n",
        "            \"Post-PTQ Model Size (MB)\": post_ptq_size,\n",
        "            \"Post-PTQ Inference Time (s)\": post_ptq_inf_time,\n",
        "        },\n",
        "        \"QAT\": {\n",
        "            \"Accuracy\": qat_acc,\n",
        "            \"Model Size (MB)\": qat_size,\n",
        "            \"Inference Time (s)\": qat_inference_time,\n",
        "            \"Post-QAT Accuracy\": post_qat_acc,\n",
        "            \"Post-QAT Model Size (MB)\": post_qat_size,\n",
        "            \"Post-QAT Inference Time (s)\": post_qat_inf_time,\n",
        "        },\n",
        "    }\n",
        "    save_results(results, filepath=\"ptq_qat_results.json\")\n",
        "    print(results)\n",
        "    return results"
      ],
      "metadata": {
        "id": "gYRvzdQtIXVz"
      },
      "execution_count": 53,
      "outputs": []
    },
    {
      "cell_type": "markdown",
      "source": [
        "## 5. Main Workflow"
      ],
      "metadata": {
        "id": "2T_7xpSYrwkk"
      }
    },
    {
      "cell_type": "markdown",
      "source": [
        "### 5-1. 모델 학습"
      ],
      "metadata": {
        "id": "3DBTd2vajR2T"
      }
    },
    {
      "cell_type": "code",
      "source": [
        "import torch\n",
        "\n",
        "device = torch.device(\"cuda\" if torch.cuda.is_available() else \"cpu\")\n",
        "\n",
        "# 데이터 로드\n",
        "batch_size = 256  # 최적 배치 크기\n",
        "num_workers = 2  # 시스템의 CPU 코어 수에 맞게 조정\n",
        "pin_memory = False  # GPU 사용 시 활성화\n",
        "\n",
        "train_loader, test_loader = get_dataloader(\n",
        "    batch_size=batch_size,\n",
        "    num_workers=num_workers,\n",
        "    pin_memory=pin_memory\n",
        ")\n",
        "\n",
        "# 모델 초기화\n",
        "ptq_model = get_resnet_for_cifar10().to(device)  # New instance for QAT\n",
        "qat_model = get_resnet_for_cifar10().to(device)\n",
        "criterion = torch.nn.CrossEntropyLoss()\n",
        "ptq_optimizer = torch.optim.Adam(ptq_model.parameters(), lr=0.01)\n",
        "qat_optimizer = torch.optim.Adam(qat_model.parameters(), lr=0.01)\n",
        "\n",
        "\n",
        "# PTQ와 QAT 비교\n",
        "results = compare_ptq_qat(ptq_model, qat_model, train_loader, test_loader, criterion, ptq_optimizer, qat_optimizer,device, epochs=10)"
      ],
      "metadata": {
        "colab": {
          "base_uri": "https://localhost:8080/",
          "height": 632
        },
        "id": "RkaOYP-xrvBt",
        "outputId": "6266e3b9-9929-4f71-c6fb-b21679437bda"
      },
      "execution_count": 54,
      "outputs": [
        {
          "output_type": "display_data",
          "data": {
            "text/plain": [
              "<Figure size 1200x500 with 2 Axes>"
            ],
            "image/png": "[encoded data removed]"
          },
          "metadata": {}
        },
        {
          "output_type": "stream",
          "name": "stdout",
          "text": [
            "Epoch 10: Train Loss=0.1206, Train Acc=95.78%, Val Loss=0.9435, Val Acc=77.82%\n",
            "Post-QAT Model Size: 44.839835 MB\n",
            "Post-QAT Inference Time: 0.36036838311702013 seconds\n",
            "QAT Model Accuracy: 69.12%\n",
            "\n",
            "=== Results ===\n",
            "{'PTQ': {'Accuracy': 81.3, 'Model Size (MB)': 11.303568, 'Inference Time (s)': 0.3581616338342428, 'Post-PTQ Accuracy': 81.69, 'Post-PTQ Model Size (MB)': 44.818966, 'Post-PTQ Inference Time (s)': 0.363964363001287}, 'QAT': {'Accuracy': 69.12, 'Model Size (MB)': 11.303632, 'Inference Time (s)': 0.35371402371674776, 'Post-QAT Accuracy': 79.48, 'Post-QAT Model Size (MB)': 44.839835, 'Post-QAT Inference Time (s)': 0.36036838311702013}}\n"
          ]
        }
      ]
    },
    {
      "cell_type": "code",
      "source": [
        "print(\"===Results===\")\n",
        "for method, metrics in results.items():\n",
        "        print(f\"{method} - Accuracy: {metrics['Accuracy']}%, Size: {metrics['Model Size (MB)']} MB, Inference Time: {metrics['Inference Time (s)']:.4f} s\")\n",
        "        print(f\"{method} - Post-PTQ Accuracy: {metrics['Post-'+method+' Accuracy']}%, Size: {metrics['Post-'+method+' Model Size (MB)']} MB, Inference Time: {metrics['Post-'+method+' Inference Time (s)']:.4f} s\")"
      ],
      "metadata": {
        "colab": {
          "base_uri": "https://localhost:8080/"
        },
        "id": "D5LPUU7toL_M",
        "outputId": "4363a528-10d0-42eb-b849-81df61ba77b1"
      },
      "execution_count": 55,
      "outputs": [
        {
          "output_type": "stream",
          "name": "stdout",
          "text": [
            "===Results===\n",
            "PTQ - Accuracy: 81.3%, Size: 11.303568 MB, Inference Time: 0.3582 s\n",
            "PTQ - Post-PTQ Accuracy: 81.69%, Size: 44.818966 MB, Inference Time: 0.3640 s\n",
            "QAT - Accuracy: 69.12%, Size: 11.303632 MB, Inference Time: 0.3537 s\n",
            "QAT - Post-PTQ Accuracy: 79.48%, Size: 44.839835 MB, Inference Time: 0.3604 s\n"
          ]
        }
      ]
    },
    {
      "cell_type": "code",
      "source": [],
      "metadata": {
        "id": "JfKyTkyCAzcD"
      },
      "execution_count": 55,
      "outputs": []
    }
  ]
}